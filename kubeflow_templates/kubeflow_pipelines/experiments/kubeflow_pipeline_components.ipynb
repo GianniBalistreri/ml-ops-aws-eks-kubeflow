{
 "cells": [
  {
   "cell_type": "markdown",
   "metadata": {
    "tags": []
   },
   "source": [
    "# Kubeflow Pipelines"
   ]
  },
  {
   "cell_type": "markdown",
   "metadata": {
    "tags": []
   },
   "source": [
    "Kubeflow pipelines are one of the most important features of Kubeflow and promise to make your AI experiments reproducible, composable, i.e. made of interchangeable components, scalable and easily shareable.\n",
    "\n",
    " \n",
    "\n",
    "A pipeline is a codified representation of a machine learning workflow, analogous to the sequence of steps described in the first image, which includes components of the workflow and their respective dependencies. More specifically, a pipeline is a directed acyclic graph (DAG) with a containerized process on each node, which runs on top of argo.\n",
    "\n",
    "Each pipeline component, represented as a block, is a self-contained piece of code, packaged as a Docker image. It contains inputs (arguments) and outputs and performs one step in the pipeline. In the example pipeline, above, the transform_data step requires arguments that are produced as an output of the extract_data and of the generate_schema steps, and its outputs are dependencies for train_model. \n",
    "\n",
    " \n",
    "\n",
    "Your ML code is wrapped into components, where you can:\n",
    "\n",
    "\n",
    "\n",
    " - Specify parameters – which become available to edit in the dashboard and configurable for every run.\n",
    "\n",
    "\n",
    "\n",
    " - Attach persistent volumes – without adding persistent volumes, we would lose all the data if our notebook was terminated for any reason. \n",
    "\n",
    "\n",
    "\n",
    " - Specify artifacts to be generated – graphs, tables, selected images, models – which end up conveniently stored on the Artifact Store, inside the Kubeflow dashboard."
   ]
  },
  {
   "cell_type": "markdown",
   "metadata": {
    "tags": []
   },
   "source": [
    "## Example"
   ]
  },
  {
   "cell_type": "markdown",
   "metadata": {
    "tags": []
   },
   "source": [
    "### Install Libraries"
   ]
  },
  {
   "cell_type": "code",
   "execution_count": null,
   "metadata": {},
   "outputs": [],
   "source": [
    "!pip install kfp"
   ]
  },
  {
   "cell_type": "code",
   "execution_count": 5,
   "metadata": {},
   "outputs": [],
   "source": [
    "import kfp\n",
    "\n",
    "from kfp import dsl\n",
    "from kfp.components import func_to_container_op\n",
    "from kfp.v2.dsl import (\n",
    "    component,\n",
    "    Output,\n",
    "    ClassificationMetrics,\n",
    "    Metrics,\n",
    "    HTML,\n",
    "    Markdown\n",
    ")\n",
    "from typing import NamedTuple"
   ]
  },
  {
   "cell_type": "markdown",
   "metadata": {
    "tags": []
   },
   "source": [
    "### Functions:"
   ]
  },
  {
   "cell_type": "code",
   "execution_count": 103,
   "metadata": {},
   "outputs": [],
   "source": [
    "def add(a: float, b: float) -> NamedTuple('outputs', [('sum', float)]):\n",
    "  \"Calculates sum of two arguments\"\n",
    "  return [a + b]"
   ]
  },
  {
   "cell_type": "code",
   "execution_count": 104,
   "metadata": {},
   "outputs": [],
   "source": [
    "def multiply(a: float, b: float) -> NamedTuple('outputs', [('multiply', float)]):\n",
    "  \"Calculates multiplication of two arguments\"\n",
    "  return [a * b]"
   ]
  },
  {
   "cell_type": "code",
   "execution_count": 105,
   "metadata": {},
   "outputs": [],
   "source": [
    "def for_loop(start: int, end: int) -> NamedTuple('outputs', [('range', list)]):\n",
    "    _range: list = [i for i in range(start, end, 1)]\n",
    "    return [_range]"
   ]
  },
  {
   "cell_type": "markdown",
   "metadata": {
    "tags": []
   },
   "source": [
    "### Simple Kubeflow Pipeline: "
   ]
  },
  {
   "cell_type": "code",
   "execution_count": 58,
   "metadata": {},
   "outputs": [],
   "source": [
    "@dsl.pipeline(\n",
    "   name='Simple Pipeline',\n",
    "   description=''\n",
    ")\n",
    "def kf_pipeline():\n",
    "    sum_func=kfp.components.create_component_from_func(add,\n",
    "                                                       base_image=\"python:3.8\",\n",
    "                                                       #packages_to_install=[]\n",
    "                                                      )\n",
    "    task_1=sum_func(a=1, b=1)\n",
    "    multiply_func=kfp.components.create_component_from_func(multiply,\n",
    "                                                            base_image=\"python:3.8\",\n",
    "                                                            #packages_to_install=[]\n",
    "                                                           )\n",
    "    task_2=multiply_func(a=task_1.output, b=task_1.output)\n",
    "kfp.compiler.Compiler().compile(kf_pipeline, 'kf_pipeline.tar.zip')\n",
    "kfp_client = kfp.Client()\n",
    "kfp_client.create_experiment(name=\"simple\")\n",
    "kfp_client.create_run_from_pipeline_func(kf_pipeline,\n",
    "                                         experiment_name='simple', \n",
    "                                         run_name='simple_run', \n",
    "                                         arguments={}\n",
    "                                        )"
   ]
  },
  {
   "cell_type": "markdown",
   "metadata": {
    "tags": []
   },
   "source": [
    "### Conditional Pipeline:"
   ]
  },
  {
   "cell_type": "code",
   "execution_count": 80,
   "metadata": {},
   "outputs": [],
   "source": [
    "@dsl.pipeline(\n",
    "   name='Conditional Pipeline',\n",
    "   description=''\n",
    ")\n",
    "def kf_pipeline():\n",
    "    sum_func=kfp.components.create_component_from_func(add,\n",
    "                                                       base_image=\"python:3.8\",\n",
    "                                                       #packages_to_install=[]\n",
    "                                                      )\n",
    "    task_1=sum_func(a=1, b=1)\n",
    "    task_1.set_display_name('Task 1: Add')\n",
    "    multiply_func=kfp.components.create_component_from_func(multiply,\n",
    "                                                            base_image=\"python:3.8\",\n",
    "                                                            #packages_to_install=[]\n",
    "                                                           )\n",
    "    with dsl.Condition(task_1.output==\"2.0\"):\n",
    "        task_2=multiply_func(a=task_1.output, b=task_1.output)\n",
    "        task_2.set_display_name('Task 2: Multiply')\n",
    "    with dsl.Condition(task_1.output!=\"2.0\"):\n",
    "        task_2=multiply_func(a=1, b=1)\n",
    "        task_2.set_display_name('Task 2: Multiply')\n",
    "kfp.compiler.Compiler().compile(kf_pipeline, 'kf_pipeline_conditional.tar.zip')\n",
    "kfp_client = kfp.Client()\n",
    "kfp_client.create_experiment(name=\"conditional\")\n",
    "kfp_client.create_run_from_pipeline_func(kf_pipeline,\n",
    "                                         experiment_name='conditional', \n",
    "                                         run_name='conditional_run', \n",
    "                                         arguments={}\n",
    "                                        )"
   ]
  },
  {
   "cell_type": "markdown",
   "metadata": {
    "tags": []
   },
   "source": [
    "### Parallel Pipeline:"
   ]
  },
  {
   "cell_type": "code",
   "execution_count": 107,
   "metadata": {},
   "outputs": [
    {
     "data": {
      "text/html": [
       "<a href=\"/pipeline/#/experiments/details/c1123361-4718-44a4-9718-ec6bbe330cee\" target=\"_blank\" >Experiment details</a>."
      ],
      "text/plain": [
       "<IPython.core.display.HTML object>"
      ]
     },
     "metadata": {},
     "output_type": "display_data"
    },
    {
     "data": {
      "text/html": [
       "<a href=\"/pipeline/#/experiments/details/c1123361-4718-44a4-9718-ec6bbe330cee\" target=\"_blank\" >Experiment details</a>."
      ],
      "text/plain": [
       "<IPython.core.display.HTML object>"
      ]
     },
     "metadata": {},
     "output_type": "display_data"
    },
    {
     "data": {
      "text/html": [
       "<a href=\"/pipeline/#/runs/details/7606a1a2-33ba-4b23-b3e6-4f8b104ec891\" target=\"_blank\" >Run details</a>."
      ],
      "text/plain": [
       "<IPython.core.display.HTML object>"
      ]
     },
     "metadata": {},
     "output_type": "display_data"
    },
    {
     "data": {
      "text/plain": [
       "RunPipelineResult(run_id=7606a1a2-33ba-4b23-b3e6-4f8b104ec891)"
      ]
     },
     "execution_count": 107,
     "metadata": {},
     "output_type": "execute_result"
    }
   ],
   "source": [
    "@dsl.pipeline(\n",
    "    name='Parallel Pipeline',\n",
    "    description='')\n",
    "def kf_pipeline():\n",
    "    loop_func=kfp.components.create_component_from_func(for_loop,\n",
    "                                                        base_image=\"python:3.8\",\n",
    "                                                        #packages_to_install=[]\n",
    "                                                       )\n",
    "    task_1=loop_func(start=1, end=3)\n",
    "    task_1.set_display_name('Task 1: Create List')\n",
    "    multiply_func=kfp.components.create_component_from_func(multiply,\n",
    "                                                            base_image=\"python:3.8\",\n",
    "                                                            #packages_to_install=[]\n",
    "                                                           )\n",
    "    with dsl.ParallelFor(task_1.output) as item:\n",
    "        task_2=multiply_func(a=item, b=item)\n",
    "        task_2.set_display_name('Task 2: Multiply')\n",
    "    sum_func=kfp.components.create_component_from_func(add,\n",
    "                                                       base_image=\"python:3.8\",\n",
    "                                                       #packages_to_install=[]\n",
    "                                                      )\n",
    "    task_3=sum_func(a=1, b=1).after(task_2)\n",
    "    task_3.set_display_name('Task 3: Add')\n",
    "kfp.compiler.Compiler().compile(kf_pipeline, 'kf_pipeline_parallel.tar.zip')\n",
    "kfp_client = kfp.Client()\n",
    "kfp_client.create_experiment(name=\"parallel\")\n",
    "kfp_client.create_run_from_pipeline_func(kf_pipeline,\n",
    "                                         experiment_name='parallel', \n",
    "                                         run_name='parallel_run', \n",
    "                                         arguments={}\n",
    "                                        )"
   ]
  },
  {
   "cell_type": "markdown",
   "metadata": {
    "tags": []
   },
   "source": [
    "### Pre-defined Pipeline Components:"
   ]
  },
  {
   "cell_type": "code",
   "execution_count": 108,
   "metadata": {},
   "outputs": [
    {
     "data": {
      "text/html": [
       "<a href=\"/pipeline/#/experiments/details/33b2eace-c2c7-4301-aa0d-da69ba389758\" target=\"_blank\" >Experiment details</a>."
      ],
      "text/plain": [
       "<IPython.core.display.HTML object>"
      ]
     },
     "metadata": {},
     "output_type": "display_data"
    },
    {
     "data": {
      "text/html": [
       "<a href=\"/pipeline/#/runs/details/b15a5069-f2d1-462b-a7fd-8a9e27522970\" target=\"_blank\" >Run details</a>."
      ],
      "text/plain": [
       "<IPython.core.display.HTML object>"
      ]
     },
     "metadata": {},
     "output_type": "display_data"
    },
    {
     "data": {
      "text/plain": [
       "RunPipelineResult(run_id=b15a5069-f2d1-462b-a7fd-8a9e27522970)"
      ]
     },
     "execution_count": 108,
     "metadata": {},
     "output_type": "execute_result"
    }
   ],
   "source": [
    "chicago_taxi_dataset_op = kfp.components.load_component_from_url('https://raw.githubusercontent.com/kubeflow/pipelines/e3337b8bdcd63636934954e592d4b32c95b49129/components/datasets/Chicago%20Taxi/component.yaml')\n",
    "convert_csv_to_apache_parquet_op = kfp.components.load_component_from_url('https://raw.githubusercontent.com/kubeflow/pipelines/0d7d6f41c92bdc05c2825232afe2b47e5cb6c4b3/components/_converters/ApacheParquet/from_CSV/component.yaml')\n",
    "xgboost_train_on_csv_op = kfp.components.load_component_from_url('https://raw.githubusercontent.com/kubeflow/pipelines/567c04c51ff00a1ee525b3458425b17adbe3df61/components/XGBoost/Train/component.yaml')\n",
    "xgboost_predict_on_csv_op = kfp.components.load_component_from_url('https://raw.githubusercontent.com/kubeflow/pipelines/31939086d66d633732f75300ce69eb60e9fb0269/components/XGBoost/Predict/component.yaml')\n",
    "xgboost_train_on_parquet_op = kfp.components.load_component_from_url('https://raw.githubusercontent.com/kubeflow/pipelines/0ae2f30ff24beeef1c64cc7c434f1f652c065192/components/XGBoost/Train/from_ApacheParquet/component.yaml')\n",
    "xgboost_predict_on_parquet_op = kfp.components.load_component_from_url('https://raw.githubusercontent.com/kubeflow/pipelines/31939086d66d633732f75300ce69eb60e9fb0269/components/XGBoost/Predict/from_ApacheParquet/component.yaml')\n",
    "\n",
    "@kfp.dsl.pipeline(name='xgboost')\n",
    "def xgboost_pipeline():\n",
    "    training_data_csv = chicago_taxi_dataset_op(\n",
    "        where='trip_start_timestamp >= \"2019-01-01\" AND trip_start_timestamp < \"2019-02-01\"',\n",
    "        select='tips,trip_seconds,trip_miles,pickup_community_area,dropoff_community_area,fare,tolls,extras,trip_total',\n",
    "        limit=10000,\n",
    "    ).output\n",
    "\n",
    "    # Training and prediction on dataset in CSV format\n",
    "    model_trained_on_csv = xgboost_train_on_csv_op(\n",
    "        training_data=training_data_csv,\n",
    "        label_column=0,\n",
    "        objective='reg:squarederror',\n",
    "        num_iterations=200,\n",
    "    ).outputs['model']\n",
    "\n",
    "    xgboost_predict_on_csv_op(\n",
    "        data=training_data_csv,\n",
    "        model=model_trained_on_csv,\n",
    "        label_column=0,\n",
    "    )\n",
    "\n",
    "    # Training and prediction on dataset in Apache Parquet format\n",
    "    training_data_parquet = convert_csv_to_apache_parquet_op(\n",
    "        training_data_csv\n",
    "    ).output\n",
    "\n",
    "    model_trained_on_parquet = xgboost_train_on_parquet_op(\n",
    "        training_data=training_data_parquet,\n",
    "        label_column_name='tips',\n",
    "        objective='reg:squarederror',\n",
    "        num_iterations=200,\n",
    "    ).outputs['model']\n",
    "\n",
    "    xgboost_predict_on_parquet_op(\n",
    "        data=training_data_parquet,\n",
    "        model=model_trained_on_parquet,\n",
    "        label_column_name='tips',\n",
    "    )\n",
    "\n",
    "    # Checking cross-format predictions\n",
    "    xgboost_predict_on_parquet_op(\n",
    "        data=training_data_parquet,\n",
    "        model=model_trained_on_csv,\n",
    "        label_column_name='tips',\n",
    "    )\n",
    "\n",
    "    xgboost_predict_on_csv_op(\n",
    "        data=training_data_csv,\n",
    "        model=model_trained_on_parquet,\n",
    "        label_column=0,\n",
    "    )\n",
    "\n",
    "\n",
    "kfp_endpoint=None\n",
    "kfp.Client(host=kfp_endpoint).create_run_from_pipeline_func(xgboost_pipeline, arguments={})"
   ]
  },
  {
   "cell_type": "code",
   "execution_count": null,
   "metadata": {},
   "outputs": [],
   "source": []
  },
  {
   "cell_type": "markdown",
   "metadata": {
    "tags": []
   },
   "source": [
    "### Add Visualization to Pipeline Task"
   ]
  },
  {
   "cell_type": "code",
   "execution_count": null,
   "metadata": {},
   "outputs": [],
   "source": [
    "@component(\n",
    "    packages_to_install=['sklearn'],\n",
    "    base_image='python:3.9'\n",
    ")\n",
    "def iris_sgdclassifier(test_samples_fraction: float, metrics: Output[ClassificationMetrics]):\n",
    "    from sklearn import datasets, model_selection\n",
    "    from sklearn.linear_model import SGDClassifier\n",
    "    from sklearn.metrics import confusion_matrix\n",
    "\n",
    "    iris_dataset = datasets.load_iris()\n",
    "    train_x, test_x, train_y, test_y = model_selection.train_test_split(\n",
    "        iris_dataset['data'], iris_dataset['target'], test_size=test_samples_fraction)\n",
    "\n",
    "\n",
    "    classifier = SGDClassifier()\n",
    "    classifier.fit(train_x, train_y)\n",
    "    predictions = model_selection.cross_val_predict(classifier, train_x, train_y, cv=3)\n",
    "    metrics.log_confusion_matrix(\n",
    "        ['Setosa', 'Versicolour', 'Virginica'],\n",
    "        confusion_matrix(train_y, predictions).tolist() # .tolist() to convert np array to list.\n",
    "    )\n",
    "\n",
    "@dsl.pipeline(\n",
    "    name='metrics-visualization-pipeline')\n",
    "def metrics_visualization_pipeline():\n",
    "    iris_sgdclassifier_op = iris_sgdclassifier(test_samples_fraction=0.3)\n",
    "kfp_endpoint=None\n",
    "kfp.Client(host=kfp_endpoint).create_run_from_pipeline_func(metrics_visualization_pipeline, arguments={})"
   ]
  },
  {
   "cell_type": "code",
   "execution_count": null,
   "metadata": {},
   "outputs": [],
   "source": []
  }
 ],
 "metadata": {
  "kernelspec": {
   "display_name": "Python 3",
   "language": "python",
   "name": "python3"
  },
  "kubeflow_notebook": {
   "autosnapshot": true,
   "docker_image": "gcr.io/arrikto/jupyter-kale-py36@sha256:dd3f92ca66b46d247e4b9b6a9d84ffbb368646263c2e3909473c3b851f3fe198",
   "experiment": {
    "id": "e2638686-e203-457f-ba77-dfa6e1e38073",
    "name": "test"
   },
   "experiment_name": "test",
   "katib_metadata": {
    "algorithm": {
     "algorithmName": "grid"
    },
    "maxFailedTrialCount": 3,
    "maxTrialCount": 12,
    "objective": {
     "objectiveMetricName": "",
     "type": "minimize"
    },
    "parallelTrialCount": 3,
    "parameters": []
   },
   "katib_run": false,
   "pipeline_description": "",
   "pipeline_name": "kale",
   "snapshot_volumes": true,
   "steps_defaults": [
    "label:access-ml-pipeline:true",
    "label:access-rok:true"
   ],
   "volume_access_mode": "rwm",
   "volumes": [
    {
     "annotations": [],
     "mount_point": "/home/jovyan",
     "name": "workshop-workspace-djgn9",
     "size": 5,
     "size_type": "Gi",
     "snapshot": false,
     "type": "clone"
    }
   ]
  },
  "language_info": {
   "codemirror_mode": {
    "name": "ipython",
    "version": 3
   },
   "file_extension": ".py",
   "mimetype": "text/x-python",
   "name": "python",
   "nbconvert_exporter": "python",
   "pygments_lexer": "ipython3",
   "version": "3.6.9"
  }
 },
 "nbformat": 4,
 "nbformat_minor": 4
}
